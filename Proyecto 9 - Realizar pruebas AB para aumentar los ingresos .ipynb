{
 "cells": [
  {
   "cell_type": "markdown",
   "metadata": {},
   "source": [
    "-----"
   ]
  },
  {
   "cell_type": "markdown",
   "metadata": {},
   "source": [
    "# INTRODUCCIÓN\n",
    "\n",
    "Para el presente proyecto, somos analistas en una gran tienda en línea. Junto con el departamento de marketing hemos recopilado una lista de hipótesis que pueden ayudar a aumentar los ingresos. \n",
    "\n",
    "Tenemos que priorizar estas hipótesis, lanzar un test A/B y analizar los resultados.\n"
   ]
  },
  {
   "cell_type": "markdown",
   "metadata": {},
   "source": [
    "Nos aseguraremos de preprocesar los datos. Verificar que no haya errores en los datasets originales; por ejemplo, algunos de los visitantes podrían haber entrado tanto en el grupo A como en el grupo B."
   ]
  },
  {
   "cell_type": "markdown",
   "metadata": {},
   "source": [
    "# Parte 1. Priorizar hipótesis"
   ]
  },
  {
   "cell_type": "code",
   "execution_count": 1,
   "metadata": {},
   "outputs": [],
   "source": [
    "#Importamos las librerías necesarias\n",
    "\n",
    "import pandas as pd\n",
    "import matplotlib.pyplot as plt\n",
    "import numpy as np\n",
    "import seaborn as sns\n",
    "import scipy.stats as stats"
   ]
  },
  {
   "cell_type": "code",
   "execution_count": 2,
   "metadata": {},
   "outputs": [],
   "source": [
    "df_hypotheses = pd.read_csv('/datasets/hypotheses_us.csv', sep=';')"
   ]
  },
  {
   "cell_type": "code",
   "execution_count": 3,
   "metadata": {},
   "outputs": [
    {
     "data": {
      "text/html": [
       "<div>\n",
       "<style scoped>\n",
       "    .dataframe tbody tr th:only-of-type {\n",
       "        vertical-align: middle;\n",
       "    }\n",
       "\n",
       "    .dataframe tbody tr th {\n",
       "        vertical-align: top;\n",
       "    }\n",
       "\n",
       "    .dataframe thead th {\n",
       "        text-align: right;\n",
       "    }\n",
       "</style>\n",
       "<table border=\"1\" class=\"dataframe\">\n",
       "  <thead>\n",
       "    <tr style=\"text-align: right;\">\n",
       "      <th></th>\n",
       "      <th>Hypothesis</th>\n",
       "      <th>Reach</th>\n",
       "      <th>Impact</th>\n",
       "      <th>Confidence</th>\n",
       "      <th>Effort</th>\n",
       "    </tr>\n",
       "  </thead>\n",
       "  <tbody>\n",
       "    <tr>\n",
       "      <th>0</th>\n",
       "      <td>Add two new channels for attracting traffic. T...</td>\n",
       "      <td>3</td>\n",
       "      <td>10</td>\n",
       "      <td>8</td>\n",
       "      <td>6</td>\n",
       "    </tr>\n",
       "    <tr>\n",
       "      <th>1</th>\n",
       "      <td>Launch your own delivery service. This will sh...</td>\n",
       "      <td>2</td>\n",
       "      <td>5</td>\n",
       "      <td>4</td>\n",
       "      <td>10</td>\n",
       "    </tr>\n",
       "    <tr>\n",
       "      <th>2</th>\n",
       "      <td>Add product recommendation blocks to the store...</td>\n",
       "      <td>8</td>\n",
       "      <td>3</td>\n",
       "      <td>7</td>\n",
       "      <td>3</td>\n",
       "    </tr>\n",
       "    <tr>\n",
       "      <th>3</th>\n",
       "      <td>Change the category structure. This will incre...</td>\n",
       "      <td>8</td>\n",
       "      <td>3</td>\n",
       "      <td>3</td>\n",
       "      <td>8</td>\n",
       "    </tr>\n",
       "    <tr>\n",
       "      <th>4</th>\n",
       "      <td>Change the background color on the main page. ...</td>\n",
       "      <td>3</td>\n",
       "      <td>1</td>\n",
       "      <td>1</td>\n",
       "      <td>1</td>\n",
       "    </tr>\n",
       "    <tr>\n",
       "      <th>5</th>\n",
       "      <td>Add a customer review page. This will increase...</td>\n",
       "      <td>3</td>\n",
       "      <td>2</td>\n",
       "      <td>2</td>\n",
       "      <td>3</td>\n",
       "    </tr>\n",
       "    <tr>\n",
       "      <th>6</th>\n",
       "      <td>Show banners with current offers and sales on ...</td>\n",
       "      <td>5</td>\n",
       "      <td>3</td>\n",
       "      <td>8</td>\n",
       "      <td>3</td>\n",
       "    </tr>\n",
       "    <tr>\n",
       "      <th>7</th>\n",
       "      <td>Add a subscription form to all the main pages....</td>\n",
       "      <td>10</td>\n",
       "      <td>7</td>\n",
       "      <td>8</td>\n",
       "      <td>5</td>\n",
       "    </tr>\n",
       "    <tr>\n",
       "      <th>8</th>\n",
       "      <td>Launch a promotion that gives users discounts ...</td>\n",
       "      <td>1</td>\n",
       "      <td>9</td>\n",
       "      <td>9</td>\n",
       "      <td>5</td>\n",
       "    </tr>\n",
       "  </tbody>\n",
       "</table>\n",
       "</div>"
      ],
      "text/plain": [
       "                                          Hypothesis  Reach  Impact  \\\n",
       "0  Add two new channels for attracting traffic. T...      3      10   \n",
       "1  Launch your own delivery service. This will sh...      2       5   \n",
       "2  Add product recommendation blocks to the store...      8       3   \n",
       "3  Change the category structure. This will incre...      8       3   \n",
       "4  Change the background color on the main page. ...      3       1   \n",
       "5  Add a customer review page. This will increase...      3       2   \n",
       "6  Show banners with current offers and sales on ...      5       3   \n",
       "7  Add a subscription form to all the main pages....     10       7   \n",
       "8  Launch a promotion that gives users discounts ...      1       9   \n",
       "\n",
       "   Confidence  Effort  \n",
       "0           8       6  \n",
       "1           4      10  \n",
       "2           7       3  \n",
       "3           3       8  \n",
       "4           1       1  \n",
       "5           2       3  \n",
       "6           8       3  \n",
       "7           8       5  \n",
       "8           9       5  "
      ]
     },
     "execution_count": 3,
     "metadata": {},
     "output_type": "execute_result"
    }
   ],
   "source": [
    "df_hypotheses"
   ]
  },
  {
   "cell_type": "code",
   "execution_count": 4,
   "metadata": {},
   "outputs": [],
   "source": [
    "df_hypotheses.columns = df_hypotheses.columns.str.lower()"
   ]
  },
  {
   "cell_type": "code",
   "execution_count": 5,
   "metadata": {},
   "outputs": [
    {
     "data": {
      "text/html": [
       "<div>\n",
       "<style scoped>\n",
       "    .dataframe tbody tr th:only-of-type {\n",
       "        vertical-align: middle;\n",
       "    }\n",
       "\n",
       "    .dataframe tbody tr th {\n",
       "        vertical-align: top;\n",
       "    }\n",
       "\n",
       "    .dataframe thead th {\n",
       "        text-align: right;\n",
       "    }\n",
       "</style>\n",
       "<table border=\"1\" class=\"dataframe\">\n",
       "  <thead>\n",
       "    <tr style=\"text-align: right;\">\n",
       "      <th></th>\n",
       "      <th>hypothesis</th>\n",
       "      <th>reach</th>\n",
       "      <th>impact</th>\n",
       "      <th>confidence</th>\n",
       "      <th>effort</th>\n",
       "    </tr>\n",
       "  </thead>\n",
       "  <tbody>\n",
       "    <tr>\n",
       "      <th>0</th>\n",
       "      <td>Add two new channels for attracting traffic. T...</td>\n",
       "      <td>3</td>\n",
       "      <td>10</td>\n",
       "      <td>8</td>\n",
       "      <td>6</td>\n",
       "    </tr>\n",
       "    <tr>\n",
       "      <th>1</th>\n",
       "      <td>Launch your own delivery service. This will sh...</td>\n",
       "      <td>2</td>\n",
       "      <td>5</td>\n",
       "      <td>4</td>\n",
       "      <td>10</td>\n",
       "    </tr>\n",
       "    <tr>\n",
       "      <th>2</th>\n",
       "      <td>Add product recommendation blocks to the store...</td>\n",
       "      <td>8</td>\n",
       "      <td>3</td>\n",
       "      <td>7</td>\n",
       "      <td>3</td>\n",
       "    </tr>\n",
       "    <tr>\n",
       "      <th>3</th>\n",
       "      <td>Change the category structure. This will incre...</td>\n",
       "      <td>8</td>\n",
       "      <td>3</td>\n",
       "      <td>3</td>\n",
       "      <td>8</td>\n",
       "    </tr>\n",
       "    <tr>\n",
       "      <th>4</th>\n",
       "      <td>Change the background color on the main page. ...</td>\n",
       "      <td>3</td>\n",
       "      <td>1</td>\n",
       "      <td>1</td>\n",
       "      <td>1</td>\n",
       "    </tr>\n",
       "    <tr>\n",
       "      <th>5</th>\n",
       "      <td>Add a customer review page. This will increase...</td>\n",
       "      <td>3</td>\n",
       "      <td>2</td>\n",
       "      <td>2</td>\n",
       "      <td>3</td>\n",
       "    </tr>\n",
       "    <tr>\n",
       "      <th>6</th>\n",
       "      <td>Show banners with current offers and sales on ...</td>\n",
       "      <td>5</td>\n",
       "      <td>3</td>\n",
       "      <td>8</td>\n",
       "      <td>3</td>\n",
       "    </tr>\n",
       "    <tr>\n",
       "      <th>7</th>\n",
       "      <td>Add a subscription form to all the main pages....</td>\n",
       "      <td>10</td>\n",
       "      <td>7</td>\n",
       "      <td>8</td>\n",
       "      <td>5</td>\n",
       "    </tr>\n",
       "    <tr>\n",
       "      <th>8</th>\n",
       "      <td>Launch a promotion that gives users discounts ...</td>\n",
       "      <td>1</td>\n",
       "      <td>9</td>\n",
       "      <td>9</td>\n",
       "      <td>5</td>\n",
       "    </tr>\n",
       "  </tbody>\n",
       "</table>\n",
       "</div>"
      ],
      "text/plain": [
       "                                          hypothesis  reach  impact  \\\n",
       "0  Add two new channels for attracting traffic. T...      3      10   \n",
       "1  Launch your own delivery service. This will sh...      2       5   \n",
       "2  Add product recommendation blocks to the store...      8       3   \n",
       "3  Change the category structure. This will incre...      8       3   \n",
       "4  Change the background color on the main page. ...      3       1   \n",
       "5  Add a customer review page. This will increase...      3       2   \n",
       "6  Show banners with current offers and sales on ...      5       3   \n",
       "7  Add a subscription form to all the main pages....     10       7   \n",
       "8  Launch a promotion that gives users discounts ...      1       9   \n",
       "\n",
       "   confidence  effort  \n",
       "0           8       6  \n",
       "1           4      10  \n",
       "2           7       3  \n",
       "3           3       8  \n",
       "4           1       1  \n",
       "5           2       3  \n",
       "6           8       3  \n",
       "7           8       5  \n",
       "8           9       5  "
      ]
     },
     "execution_count": 5,
     "metadata": {},
     "output_type": "execute_result"
    }
   ],
   "source": [
    "df_hypotheses"
   ]
  },
  {
   "cell_type": "code",
   "execution_count": 6,
   "metadata": {},
   "outputs": [
    {
     "name": "stdout",
     "output_type": "stream",
     "text": [
      "Hypotheses ordenadas por ICE Score:\n",
      "                                          hypothesis  ICE_score\n",
      "8  Launch a promotion that gives users discounts ...  16.200000\n",
      "0  Add two new channels for attracting traffic. T...  13.333333\n",
      "7  Add a subscription form to all the main pages....  11.200000\n",
      "6  Show banners with current offers and sales on ...   8.000000\n",
      "2  Add product recommendation blocks to the store...   7.000000\n",
      "1  Launch your own delivery service. This will sh...   2.000000\n",
      "5  Add a customer review page. This will increase...   1.333333\n",
      "3  Change the category structure. This will incre...   1.125000\n",
      "4  Change the background color on the main page. ...   1.000000\n"
     ]
    }
   ],
   "source": [
    "# Calcular el ICE score\n",
    "df_hypotheses['ICE_score'] = (df_hypotheses['impact'] * df_hypotheses['confidence']) / df_hypotheses['effort']\n",
    "\n",
    "# Ordenar las hipótesis por ICE score en orden descendente\n",
    "df_ice_sorted = df_hypotheses.sort_values(by='ICE_score', ascending=False)\n",
    "\n",
    "print(\"Hypotheses ordenadas por ICE Score:\")\n",
    "print(df_ice_sorted[['hypothesis', 'ICE_score']])"
   ]
  },
  {
   "cell_type": "code",
   "execution_count": 7,
   "metadata": {},
   "outputs": [
    {
     "name": "stdout",
     "output_type": "stream",
     "text": [
      "Hypotheses ordenadas por RICE Score:\n",
      "                                          hypothesis  RICE_score\n",
      "7  Add a subscription form to all the main pages....       112.0\n",
      "2  Add product recommendation blocks to the store...        56.0\n",
      "0  Add two new channels for attracting traffic. T...        40.0\n",
      "6  Show banners with current offers and sales on ...        40.0\n",
      "8  Launch a promotion that gives users discounts ...        16.2\n",
      "3  Change the category structure. This will incre...         9.0\n",
      "1  Launch your own delivery service. This will sh...         4.0\n",
      "5  Add a customer review page. This will increase...         4.0\n",
      "4  Change the background color on the main page. ...         3.0\n"
     ]
    }
   ],
   "source": [
    "# Calcular el RICE score\n",
    "df_hypotheses['RICE_score'] = (df_hypotheses['reach'] * df_hypotheses['impact'] * df_hypotheses['confidence']) / df_hypotheses['effort']\n",
    "\n",
    "# Ordenar las hipótesis por RICE score en orden descendente\n",
    "df_rice_sorted = df_hypotheses.sort_values(by='RICE_score', ascending=False)\n",
    "\n",
    "print(\"Hypotheses ordenadas por RICE Score:\")\n",
    "print(df_rice_sorted[['hypothesis', 'RICE_score']])"
   ]
  },
  {
   "cell_type": "code",
   "execution_count": 8,
   "metadata": {},
   "outputs": [
    {
     "name": "stdout",
     "output_type": "stream",
     "text": [
      "Comparación de priorización por ICE y RICE:\n",
      " \n",
      "                                          hypothesis  ICE_score  RICE_score  \\\n",
      "8  Launch a promotion that gives users discounts ...  16.200000        16.2   \n",
      "0  Add two new channels for attracting traffic. T...  13.333333        40.0   \n",
      "7  Add a subscription form to all the main pages....  11.200000       112.0   \n",
      "6  Show banners with current offers and sales on ...   8.000000        40.0   \n",
      "2  Add product recommendation blocks to the store...   7.000000        56.0   \n",
      "1  Launch your own delivery service. This will sh...   2.000000         4.0   \n",
      "5  Add a customer review page. This will increase...   1.333333         4.0   \n",
      "3  Change the category structure. This will incre...   1.125000         9.0   \n",
      "4  Change the background color on the main page. ...   1.000000         3.0   \n",
      "\n",
      "   ICE_rank  RICE_rank  rank_change  \n",
      "8       1.0        5.0         -4.0  \n",
      "0       2.0        3.5         -1.5  \n",
      "7       3.0        1.0          2.0  \n",
      "6       4.0        3.5          0.5  \n",
      "2       5.0        2.0          3.0  \n",
      "1       6.0        7.5         -1.5  \n",
      "5       7.0        7.5         -0.5  \n",
      "3       8.0        6.0          2.0  \n",
      "4       9.0        9.0          0.0  \n"
     ]
    }
   ],
   "source": [
    "# Comparar las posiciones de las hipótesis en las dos priorizaciones\n",
    "df_comparison = df_hypotheses[['hypothesis', 'ICE_score', 'RICE_score']].copy()\n",
    "df_comparison['ICE_rank'] = df_comparison['ICE_score'].rank(ascending=False)\n",
    "df_comparison['RICE_rank'] = df_comparison['RICE_score'].rank(ascending=False)\n",
    "df_comparison['rank_change'] = df_comparison['ICE_rank'] - df_comparison['RICE_rank']\n",
    "\n",
    "print(\"Comparación de priorización por ICE y RICE:\")\n",
    "print(\" \")\n",
    "print(df_comparison.sort_values(by='ICE_rank'))\n"
   ]
  },
  {
   "cell_type": "markdown",
   "metadata": {},
   "source": [
    "Explicación de los cambios:\n",
    "\n",
    "Los cambios en la priorización reflejan la importancia de incluir el alcance (Reach) en la evaluación de las hipótesis. Las hipótesis que afectan a un mayor número de usuarios se priorizan más alto en el framework RICE, lo que puede ser más relevante para estrategias de crecimiento enfocadas en la expansión del alcance de la base de usuarios.\n",
    "\n",
    "En ambas clasificaciones (ICE y RICE), tenemos en nuestros top 3 las hipótesis: 7 y 0. Estas serán las hipótesis que priorizaremos, debido a lo mencionado ya sobre el alcance que pretendemos sea mayor."
   ]
  },
  {
   "cell_type": "markdown",
   "metadata": {},
   "source": [
    "# Parte 2. Análisis de test A/B"
   ]
  },
  {
   "cell_type": "code",
   "execution_count": 9,
   "metadata": {},
   "outputs": [
    {
     "name": "stdout",
     "output_type": "stream",
     "text": [
      "   transactionId   visitorId        date  revenue group\n",
      "0     3667963787  3312258926  2019-08-15     30.4     B\n",
      "1     2804400009  3642806036  2019-08-15     15.2     B\n",
      "2     2961555356  4069496402  2019-08-15     10.2     A\n",
      "3     3797467345  1196621759  2019-08-15    155.1     B\n",
      "4     2282983706  2322279887  2019-08-15     40.5     B\n",
      "         date group  visits\n",
      "0  2019-08-01     A     719\n",
      "1  2019-08-02     A     619\n",
      "2  2019-08-03     A     507\n",
      "3  2019-08-04     A     717\n",
      "4  2019-08-05     A     756\n"
     ]
    }
   ],
   "source": [
    "# Cargar los datasets\n",
    "orders = pd.read_csv('/datasets/orders_us.csv')\n",
    "visits = pd.read_csv('/datasets/visits_us.csv')\n",
    "\n",
    "# Mostrar las primeras filas para verificar la carga correcta\n",
    "print(orders.head())\n",
    "print(visits.head())"
   ]
  },
  {
   "cell_type": "code",
   "execution_count": 10,
   "metadata": {},
   "outputs": [],
   "source": [
    "#orders.columns = orders.columns.str.lower()\n",
    "#visits.columns = visits.columns.str.lower()"
   ]
  },
  {
   "cell_type": "code",
   "execution_count": 11,
   "metadata": {},
   "outputs": [
    {
     "name": "stdout",
     "output_type": "stream",
     "text": [
      "<class 'pandas.core.frame.DataFrame'>\n",
      "RangeIndex: 1197 entries, 0 to 1196\n",
      "Data columns (total 5 columns):\n",
      " #   Column         Non-Null Count  Dtype  \n",
      "---  ------         --------------  -----  \n",
      " 0   transactionId  1197 non-null   int64  \n",
      " 1   visitorId      1197 non-null   int64  \n",
      " 2   date           1197 non-null   object \n",
      " 3   revenue        1197 non-null   float64\n",
      " 4   group          1197 non-null   object \n",
      "dtypes: float64(1), int64(2), object(2)\n",
      "memory usage: 46.9+ KB\n",
      "\n",
      "<class 'pandas.core.frame.DataFrame'>\n",
      "RangeIndex: 62 entries, 0 to 61\n",
      "Data columns (total 3 columns):\n",
      " #   Column  Non-Null Count  Dtype \n",
      "---  ------  --------------  ----- \n",
      " 0   date    62 non-null     object\n",
      " 1   group   62 non-null     object\n",
      " 2   visits  62 non-null     int64 \n",
      "dtypes: int64(1), object(2)\n",
      "memory usage: 1.6+ KB\n"
     ]
    }
   ],
   "source": [
    "orders.info()\n",
    "\n",
    "print( )\n",
    "visits.info()"
   ]
  },
  {
   "cell_type": "code",
   "execution_count": 12,
   "metadata": {},
   "outputs": [],
   "source": [
    "# Convertir las fechas a tipo datetime\n",
    "orders['date'] = pd.to_datetime(orders['date'])\n",
    "visits['date'] = pd.to_datetime(visits['date'])"
   ]
  },
  {
   "cell_type": "code",
   "execution_count": 13,
   "metadata": {},
   "outputs": [],
   "source": [
    "# Verificar si hay visitantes en ambos grupos del test A/B\n",
    "duplicate_visitors = orders.groupby('visitorId')['group'].nunique()\n",
    "duplicate_visitors = duplicate_visitors[duplicate_visitors > 1].index"
   ]
  },
  {
   "cell_type": "code",
   "execution_count": 14,
   "metadata": {},
   "outputs": [
    {
     "data": {
      "text/plain": [
       "Int64Index([   8300375,  199603092,  232979603,  237748145,  276558944,\n",
       "             351125977,  393266494,  457167155,  471551937,  477780734,\n",
       "             818047933,  963407295, 1230306981, 1294878855, 1316129916,\n",
       "            1333886533, 1404934699, 1602967004, 1614305549, 1648269707,\n",
       "            1668030113, 1738359350, 1801183820, 1959144690, 2038680547,\n",
       "            2044997962, 2378935119, 2458001652, 2579882178, 2587333274,\n",
       "            2600415354, 2654030115, 2686716486, 2712142231, 2716752286,\n",
       "            2780786433, 2927087541, 2949041841, 2954449915, 3062433592,\n",
       "            3202540741, 3234906277, 3656415546, 3717692402, 3766097110,\n",
       "            3803269165, 3891541246, 3941795274, 3951559397, 3957174400,\n",
       "            3963646447, 3972127743, 3984495233, 4069496402, 4120364173,\n",
       "            4186807279, 4256040402, 4266935830],\n",
       "           dtype='int64', name='visitorId')"
      ]
     },
     "execution_count": 14,
     "metadata": {},
     "output_type": "execute_result"
    }
   ],
   "source": [
    "duplicate_visitors"
   ]
  },
  {
   "cell_type": "code",
   "execution_count": 15,
   "metadata": {},
   "outputs": [],
   "source": [
    "# Eliminar registros de visitantes que están en ambos grupos\n",
    "orders_fixed = orders[~orders['visitorId'].isin(duplicate_visitors)]"
   ]
  },
  {
   "cell_type": "code",
   "execution_count": 16,
   "metadata": {},
   "outputs": [],
   "source": [
    "# Eliminar registros duplicados en los pedidos\n",
    "orders_fixed = orders_fixed.drop_duplicates()"
   ]
  },
  {
   "cell_type": "markdown",
   "metadata": {},
   "source": [
    "Conclusión del Preprocesamiento:\n",
    "\n",
    "Los datos están listos para el análisis del test A/B. Hemos eliminado a los visitantes que estaban en ambos grupos y asegurado que los tipos de datos sean correctos."
   ]
  },
  {
   "cell_type": "markdown",
   "metadata": {},
   "source": [
    "# Analiza el test A/B:"
   ]
  },
  {
   "cell_type": "markdown",
   "metadata": {},
   "source": [
    "## Representamos gráficamente el ingreso acumulado por grupo. "
   ]
  },
  {
   "cell_type": "code",
   "execution_count": 17,
   "metadata": {},
   "outputs": [
    {
     "data": {
      "text/html": [
       "<div>\n",
       "<style scoped>\n",
       "    .dataframe tbody tr th:only-of-type {\n",
       "        vertical-align: middle;\n",
       "    }\n",
       "\n",
       "    .dataframe tbody tr th {\n",
       "        vertical-align: top;\n",
       "    }\n",
       "\n",
       "    .dataframe thead th {\n",
       "        text-align: right;\n",
       "    }\n",
       "</style>\n",
       "<table border=\"1\" class=\"dataframe\">\n",
       "  <thead>\n",
       "    <tr style=\"text-align: right;\">\n",
       "      <th></th>\n",
       "      <th>transactionId</th>\n",
       "      <th>visitorId</th>\n",
       "      <th>date</th>\n",
       "      <th>revenue</th>\n",
       "      <th>group</th>\n",
       "    </tr>\n",
       "  </thead>\n",
       "  <tbody>\n",
       "    <tr>\n",
       "      <th>0</th>\n",
       "      <td>3667963787</td>\n",
       "      <td>3312258926</td>\n",
       "      <td>2019-08-15</td>\n",
       "      <td>30.4</td>\n",
       "      <td>B</td>\n",
       "    </tr>\n",
       "    <tr>\n",
       "      <th>1</th>\n",
       "      <td>2804400009</td>\n",
       "      <td>3642806036</td>\n",
       "      <td>2019-08-15</td>\n",
       "      <td>15.2</td>\n",
       "      <td>B</td>\n",
       "    </tr>\n",
       "    <tr>\n",
       "      <th>3</th>\n",
       "      <td>3797467345</td>\n",
       "      <td>1196621759</td>\n",
       "      <td>2019-08-15</td>\n",
       "      <td>155.1</td>\n",
       "      <td>B</td>\n",
       "    </tr>\n",
       "    <tr>\n",
       "      <th>4</th>\n",
       "      <td>2282983706</td>\n",
       "      <td>2322279887</td>\n",
       "      <td>2019-08-15</td>\n",
       "      <td>40.5</td>\n",
       "      <td>B</td>\n",
       "    </tr>\n",
       "    <tr>\n",
       "      <th>5</th>\n",
       "      <td>182168103</td>\n",
       "      <td>935554773</td>\n",
       "      <td>2019-08-15</td>\n",
       "      <td>35.0</td>\n",
       "      <td>B</td>\n",
       "    </tr>\n",
       "    <tr>\n",
       "      <th>...</th>\n",
       "      <td>...</td>\n",
       "      <td>...</td>\n",
       "      <td>...</td>\n",
       "      <td>...</td>\n",
       "      <td>...</td>\n",
       "    </tr>\n",
       "    <tr>\n",
       "      <th>1191</th>\n",
       "      <td>3592955527</td>\n",
       "      <td>608641596</td>\n",
       "      <td>2019-08-14</td>\n",
       "      <td>255.7</td>\n",
       "      <td>B</td>\n",
       "    </tr>\n",
       "    <tr>\n",
       "      <th>1192</th>\n",
       "      <td>2662137336</td>\n",
       "      <td>3733762160</td>\n",
       "      <td>2019-08-14</td>\n",
       "      <td>100.8</td>\n",
       "      <td>B</td>\n",
       "    </tr>\n",
       "    <tr>\n",
       "      <th>1193</th>\n",
       "      <td>2203539145</td>\n",
       "      <td>370388673</td>\n",
       "      <td>2019-08-14</td>\n",
       "      <td>50.1</td>\n",
       "      <td>A</td>\n",
       "    </tr>\n",
       "    <tr>\n",
       "      <th>1194</th>\n",
       "      <td>1807773912</td>\n",
       "      <td>573423106</td>\n",
       "      <td>2019-08-14</td>\n",
       "      <td>165.3</td>\n",
       "      <td>A</td>\n",
       "    </tr>\n",
       "    <tr>\n",
       "      <th>1196</th>\n",
       "      <td>3936777065</td>\n",
       "      <td>2108080724</td>\n",
       "      <td>2019-08-15</td>\n",
       "      <td>3120.1</td>\n",
       "      <td>B</td>\n",
       "    </tr>\n",
       "  </tbody>\n",
       "</table>\n",
       "<p>1016 rows × 5 columns</p>\n",
       "</div>"
      ],
      "text/plain": [
       "      transactionId   visitorId       date  revenue group\n",
       "0        3667963787  3312258926 2019-08-15     30.4     B\n",
       "1        2804400009  3642806036 2019-08-15     15.2     B\n",
       "3        3797467345  1196621759 2019-08-15    155.1     B\n",
       "4        2282983706  2322279887 2019-08-15     40.5     B\n",
       "5         182168103   935554773 2019-08-15     35.0     B\n",
       "...             ...         ...        ...      ...   ...\n",
       "1191     3592955527   608641596 2019-08-14    255.7     B\n",
       "1192     2662137336  3733762160 2019-08-14    100.8     B\n",
       "1193     2203539145   370388673 2019-08-14     50.1     A\n",
       "1194     1807773912   573423106 2019-08-14    165.3     A\n",
       "1196     3936777065  2108080724 2019-08-15   3120.1     B\n",
       "\n",
       "[1016 rows x 5 columns]"
      ]
     },
     "execution_count": 17,
     "metadata": {},
     "output_type": "execute_result"
    }
   ],
   "source": [
    "orders_fixed"
   ]
  },
  {
   "cell_type": "code",
   "execution_count": 18,
   "metadata": {},
   "outputs": [],
   "source": [
    "# crea una matriz con valores únicos de parejas fecha-grupo\n",
    "datesGroups = orders[['date','group']].drop_duplicates()"
   ]
  },
  {
   "cell_type": "code",
   "execution_count": 19,
   "metadata": {},
   "outputs": [
    {
     "name": "stdout",
     "output_type": "stream",
     "text": [
      "        date group  orders  buyers  revenue  visitors\n",
      "0 2019-08-01     A      24      20   2356.8       719\n",
      "1 2019-08-01     B      21      20   1620.0       713\n",
      "2 2019-08-02     A      44      38   3860.3      1338\n",
      "3 2019-08-02     B      45      43   4243.8      1294\n",
      "4 2019-08-03     A      68      62   5675.5      1845\n"
     ]
    }
   ],
   "source": [
    "\n",
    "#  obtén los datos diarios acumulados agregados sobre los pedidos \n",
    "ordersAggregated = datesGroups.apply(lambda x: orders[np.logical_and(orders['date'] <= x['date'], orders['group'] == x['group'])].agg({'date' : 'max', 'group' : 'max', 'transactionId' : pd.Series.nunique, 'visitorId' : pd.Series.nunique, 'revenue' : 'sum'}), axis=1).sort_values(by=['date','group'])\n",
    "\n",
    "#obtén los datos diarios acumulados agregados sobre los visitantes\n",
    "visitorsAggregated = datesGroups.apply(lambda x: visits[np.logical_and(visits['date'] <= x['date'], visits['group'] == x['group'])].agg({'date' : 'max', 'group' : 'max', 'visits' : 'sum'}), axis=1).sort_values(by=['date','group'])\n",
    "\n",
    "#  fusiona las dos tablas en una y da a sus columnas nombres descriptivos\n",
    "cumulativeData = ordersAggregated.merge(visitorsAggregated, left_on=['date', 'group'], right_on=['date', 'group'])\n",
    "cumulativeData.columns = ['date', 'group', 'orders', 'buyers', 'revenue', 'visitors']\n",
    "\n",
    "print(cumulativeData.head(5))"
   ]
  },
  {
   "cell_type": "code",
   "execution_count": 20,
   "metadata": {},
   "outputs": [],
   "source": [
    "# DataFrame con pedidos acumulados e ingresos acumulados por día, grupo A\n",
    "cumulativeRevenueA = cumulativeData[cumulativeData['group']=='A'][['date','revenue', 'orders']]\n",
    "\n",
    "# DataFrame con pedidos acumulados e ingresos acumulados por día, grupo B\n",
    "cumulativeRevenueB = cumulativeData[cumulativeData['group']=='B'][['date','revenue', 'orders']]\n",
    "\n"
   ]
  },
  {
   "cell_type": "code",
   "execution_count": 21,
   "metadata": {},
   "outputs": [
    {
     "data": {
      "image/png": "[encoded data removed]",
      "text/plain": [
       "<Figure size 1200x600 with 1 Axes>"
      ]
     },
     "metadata": {},
     "output_type": "display_data"
    }
   ],
   "source": [
    "plt.figure(figsize=(12, 6))\n",
    "\n",
    "# Trazar el gráfico de ingresos del grupo A\n",
    "plt.plot(cumulativeRevenueA['date'], cumulativeRevenueA['revenue'], label='A')\n",
    "\n",
    "# Trazar el gráfico de ingresos del grupo B\n",
    "plt.plot(cumulativeRevenueB['date'], cumulativeRevenueB['revenue'], label='B')\n",
    "\n",
    "plt.xlabel('Date')\n",
    "plt.ylabel('Ingresos acumulados')\n",
    "plt.title('Ingresos acumulados por día y grupo de prueba A/B')\n",
    "plt.legend()\n",
    "plt.show()"
   ]
  },
  {
   "cell_type": "markdown",
   "metadata": {},
   "source": [
    "Los ingresos aumentan constantemente durante toda la prueba.\n",
    "\n",
    "Sin embargo, podemos ver que ambos grupos tienen picos en los ingresos en ciertos puntos, en el grupo B es más evidente. Esto puede implicar un aumento en el número de pedidos o la existencia de pedidos muy caros en la muestra. "
   ]
  },
  {
   "cell_type": "markdown",
   "metadata": {},
   "source": [
    "## Representamos gráficamente el tamaño de pedido promedio acumulado por grupo."
   ]
  },
  {
   "cell_type": "code",
   "execution_count": 22,
   "metadata": {},
   "outputs": [
    {
     "data": {
      "text/plain": [
       "<matplotlib.legend.Legend at 0x7f07468b7370>"
      ]
     },
     "execution_count": 22,
     "metadata": {},
     "output_type": "execute_result"
    },
    {
     "data": {
      "image/png": "[encoded data removed]",
      "text/plain": [
       "<Figure size 1200x700 with 1 Axes>"
      ]
     },
     "metadata": {},
     "output_type": "display_data"
    }
   ],
   "source": [
    "\n",
    "plt.figure(figsize=(12, 7))\n",
    "plt.plot(cumulativeRevenueA['date'], cumulativeRevenueA['revenue']/cumulativeRevenueA['orders'], label='A')\n",
    "plt.plot(cumulativeRevenueB['date'], cumulativeRevenueB['revenue']/cumulativeRevenueB['orders'], label='B')\n",
    "plt.xlabel('Date')\n",
    "plt.ylabel('Tamaño promedio de compra')\n",
    "plt.title('Tamaño promedio de compra por grupo de prueba A/B')\n",
    "plt.legend()"
   ]
  },
  {
   "cell_type": "markdown",
   "metadata": {},
   "source": [
    "Ambos grupos se estabilizan hacia el final de la prueba, sin embargo, el grupo B presenta una tendencia a la baja; mientras que el grupo A parece ir en incremento. De igual modo, observamos algunos picos en donde los pedidos debieron aumentar drásticamante."
   ]
  },
  {
   "cell_type": "markdown",
   "metadata": {},
   "source": [
    "## Representamos gráficamente la diferencia relativa en el tamaño de pedido promedio acumulado para el grupo B en comparación con el grupo A."
   ]
  },
  {
   "cell_type": "code",
   "execution_count": 23,
   "metadata": {},
   "outputs": [
    {
     "data": {
      "text/plain": [
       "<matplotlib.lines.Line2D at 0x7f0747085df0>"
      ]
     },
     "execution_count": 23,
     "metadata": {},
     "output_type": "execute_result"
    },
    {
     "data": {
      "image/png": "[encoded data removed]",
      "text/plain": [
       "<Figure size 1200x800 with 1 Axes>"
      ]
     },
     "metadata": {},
     "output_type": "display_data"
    }
   ],
   "source": [
    "\n",
    "# reunir los datos en un DataFrame\n",
    "mergedCumulativeRevenue = cumulativeRevenueA.merge(cumulativeRevenueB, left_on='date', right_on='date', how='left', suffixes=['A', 'B'])\n",
    "\n",
    "# trazar un gráfico de diferencia relativa para los tamaños de compra promedio\n",
    "plt.figure(figsize=(12, 8))\n",
    "plt.plot(mergedCumulativeRevenue['date'], (mergedCumulativeRevenue['revenueB']/mergedCumulativeRevenue['ordersB'])/(mergedCumulativeRevenue['revenueA']/mergedCumulativeRevenue['ordersA'])-1)\n",
    "plt.xlabel('Date')\n",
    "plt.ylabel('Diferencia relativa')\n",
    "plt.title('Diferencia relativa para los tamaños promedio de compra del grupo B respecto A')\n",
    "\n",
    "\n",
    "# agregar el eje X\n",
    "plt.axhline(y=0, color='black', linestyle='--')"
   ]
  },
  {
   "cell_type": "markdown",
   "metadata": {},
   "source": [
    "En varios puntos, la diferencia entre los segmentos aumenta. Esto nos confirma las sospechas de gráficos pasados; que deben haber algunos pedidos grandes y valores atípicos. "
   ]
  },
  {
   "cell_type": "markdown",
   "metadata": {},
   "source": [
    "## Calcula la tasa de conversión de cada grupo como la relación entre los pedidos y el número de visitas de cada día."
   ]
  },
  {
   "cell_type": "code",
   "execution_count": 24,
   "metadata": {},
   "outputs": [],
   "source": [
    "# calcular la conversión acumulada\n",
    "cumulativeData['conversion'] = cumulativeData['orders']/cumulativeData['visitors']\n",
    "\n",
    "# seleccionar datos en el grupo A\n",
    "cumulativeDataA = cumulativeData[cumulativeData['group']=='A']\n",
    "\n",
    "# seleccionar datos en el grupo B\n",
    "cumulativeDataB = cumulativeData[cumulativeData['group']=='B']\n",
    "\n"
   ]
  },
  {
   "cell_type": "code",
   "execution_count": 25,
   "metadata": {},
   "outputs": [
    {
     "name": "stdout",
     "output_type": "stream",
     "text": [
      "2019-08-01 00:00:00\n",
      "2019-08-31 00:00:00\n",
      "2019-08-01 00:00:00\n",
      "2019-08-31 00:00:00\n",
      "0.029217427214536445\n",
      "0.03685636856368564\n"
     ]
    }
   ],
   "source": [
    "print(cumulativeDataA['date'].min())\n",
    "print(cumulativeDataA['date'].max())\n",
    "\n",
    "print(cumulativeDataB['date'].min())\n",
    "print(cumulativeDataB['date'].max())\n",
    "\n",
    "print(cumulativeData['conversion'].min())\n",
    "print(cumulativeData['conversion'].max())\n"
   ]
  },
  {
   "cell_type": "code",
   "execution_count": 26,
   "metadata": {},
   "outputs": [
    {
     "name": "stdout",
     "output_type": "stream",
     "text": [
      "0.03072780390193162\n",
      "0.03385542374202302\n"
     ]
    }
   ],
   "source": [
    "print(cumulativeDataA['conversion'].mean())\n",
    "\n",
    "print(cumulativeDataB['conversion'].mean())"
   ]
  },
  {
   "cell_type": "code",
   "execution_count": 27,
   "metadata": {},
   "outputs": [
    {
     "data": {
      "text/plain": [
       "(18109.0, 18139.0, 0.027, 0.038)"
      ]
     },
     "execution_count": 27,
     "metadata": {},
     "output_type": "execute_result"
    },
    {
     "data": {
      "image/png": "[encoded data removed]",
      "text/plain": [
       "<Figure size 1200x800 with 1 Axes>"
      ]
     },
     "metadata": {},
     "output_type": "display_data"
    }
   ],
   "source": [
    "# trazar los gráficos\n",
    "plt.figure(figsize=(12, 8))\n",
    "plt.plot(cumulativeDataA['date'], cumulativeDataA['conversion'], label='A')\n",
    "plt.plot(cumulativeDataB['date'], cumulativeDataB['conversion'], label='B')\n",
    "plt.xlabel('Date')\n",
    "plt.ylabel('Tasa de conversión')\n",
    "plt.title('Tasas de conversión acumuladas diarias')\n",
    "plt.legend()\n",
    "\n",
    "# establecer la escala de los ejes\n",
    "plt.axis([(cumulativeData['date'].min()), (cumulativeData['date'].max()), 0.027, 0.038])"
   ]
  },
  {
   "cell_type": "markdown",
   "metadata": {},
   "source": [
    "Los grupos fluctuaron al inicio, siendo mayor el grupo A pero luego la tasa de conversión del grupo B aumentó antes de estabilizarse alrededor del 34% mientras que la tasa de conversión del grupo A disminuyó pero luego también se estabilizó alrededor del 30%."
   ]
  },
  {
   "cell_type": "markdown",
   "metadata": {},
   "source": [
    "## Traza un gráfico de dispersión del número de pedidos por usuario."
   ]
  },
  {
   "cell_type": "code",
   "execution_count": 28,
   "metadata": {},
   "outputs": [
    {
     "data": {
      "image/png": "[encoded data removed]",
      "text/plain": [
       "<Figure size 1200x800 with 1 Axes>"
      ]
     },
     "metadata": {},
     "output_type": "display_data"
    }
   ],
   "source": [
    "# Calcular el número de pedidos por usuario\n",
    "orders_per_user = orders_fixed.groupby('visitorId')['transactionId'].nunique().reset_index()\n",
    "orders_per_user.columns = ['visitorId', 'orders']\n",
    "\n",
    "plt.figure(figsize=(12, 8))\n",
    "plt.scatter(orders_per_user.index, orders_per_user['orders'], alpha=0.5)\n",
    "plt.title('Dispersión de Clientes y Conteo de Compras')\n",
    "plt.xlabel('ID del Cliente')\n",
    "plt.ylabel('Conteo de Compras')\n",
    "plt.grid(True)\n",
    "plt.show()"
   ]
  },
  {
   "cell_type": "markdown",
   "metadata": {},
   "source": [
    "Como podemos ver, la gran mayoría de clientes realizan un pedido, muy pocos vuelven a realizar compras. Aparentemente se tiene una a¿taza de retención de clientes muy baja."
   ]
  },
  {
   "cell_type": "markdown",
   "metadata": {},
   "source": [
    "## Calcula los percentiles 95 y 99 para el número de pedidos por usuario. "
   ]
  },
  {
   "cell_type": "code",
   "execution_count": 29,
   "metadata": {},
   "outputs": [
    {
     "name": "stdout",
     "output_type": "stream",
     "text": [
      "Percentil 95 de pedidos por usuario: 1.0\n",
      "None\n",
      "Percentil 99 de pedidos por usuario: 2.0\n",
      "None\n"
     ]
    }
   ],
   "source": [
    "print(print(\"Percentil 95 de pedidos por usuario:\", np.percentile(orders_per_user['orders'], 95)))\n",
    "print(print(\"Percentil 99 de pedidos por usuario:\", np.percentile(orders_per_user['orders'], 99)))"
   ]
  },
  {
   "cell_type": "markdown",
   "metadata": {},
   "source": [
    "Como podemos ver, el 95% de los clientes tienen al menos 1 pedido. Menos del 1% de nuestros clientes tienen más de 2 pedidos.\n",
    "Por lo tanto, aquellos que tienen más de 1 pedido, se pueden considerar como anomalías."
   ]
  },
  {
   "cell_type": "markdown",
   "metadata": {},
   "source": [
    "## Traza un gráfico de dispersión de los precios de los pedidos."
   ]
  },
  {
   "cell_type": "code",
   "execution_count": 30,
   "metadata": {},
   "outputs": [
    {
     "data": {
      "image/png": "[encoded data removed]",
      "text/plain": [
       "<Figure size 1200x800 with 1 Axes>"
      ]
     },
     "metadata": {},
     "output_type": "display_data"
    }
   ],
   "source": [
    "x_values = pd.Series(range(0, len(orders_fixed['revenue'])))\n",
    "plt.figure(figsize=(12, 8))\n",
    "plt.scatter(x_values, orders_fixed['revenue'])\n",
    "plt.title('Dispersión de precios de pedidos')\n",
    "plt.xlabel('ID de compra ')\n",
    "plt.ylabel('Precio del pedido')\n",
    "plt.grid(True)"
   ]
  },
  {
   "cell_type": "markdown",
   "metadata": {},
   "source": [
    "Tal como se esperaba y sospechaba, hay varios pedidos grandes. Según el gráfico, podemos establecer el límite para pedidos anormales entre 500 y 1000. "
   ]
  },
  {
   "cell_type": "markdown",
   "metadata": {},
   "source": [
    "## Calcula los percentiles 95 y 99 de los precios de los pedidos. "
   ]
  },
  {
   "cell_type": "code",
   "execution_count": 31,
   "metadata": {},
   "outputs": [
    {
     "name": "stdout",
     "output_type": "stream",
     "text": [
      "Percentil 95 del tamaño de pedidos: 414.275\n",
      "None\n",
      "Percentil 99 del tamaño de pedidos: 830.3\n",
      "None\n"
     ]
    }
   ],
   "source": [
    "print(print(\"Percentil 95 del tamaño de pedidos:\", np.percentile(orders_fixed['revenue'], 95)))\n",
    "print(print(\"Percentil 99 del tamaño de pedidos:\", np.percentile(orders_fixed['revenue'], 99)))"
   ]
  },
  {
   "cell_type": "markdown",
   "metadata": {},
   "source": [
    "Podemos definir el límite del tamaño de pedido en 500, aquellos por encima de este valor se considerarán como anomalías. "
   ]
  },
  {
   "cell_type": "markdown",
   "metadata": {},
   "source": [
    "## Encuentra la significancia estadística de la diferencia en la conversión entre los grupos utilizando los datos en bruto."
   ]
  },
  {
   "cell_type": "code",
   "execution_count": 32,
   "metadata": {},
   "outputs": [
    {
     "name": "stdout",
     "output_type": "stream",
     "text": [
      "0.011\n",
      "0.160\n"
     ]
    }
   ],
   "source": [
    "ordersByUsersA = orders_fixed[orders_fixed['group']=='A'].groupby('visitorId', as_index=False).agg({'transactionId' : pd.Series.nunique})\n",
    "ordersByUsersA.columns = ['userId', 'orders']\n",
    "\n",
    "ordersByUsersB = orders_fixed[orders_fixed['group']=='B'].groupby('visitorId', as_index=False).agg({'transactionId' : pd.Series.nunique})\n",
    "ordersByUsersB.columns = ['userId', 'orders']\n",
    "\n",
    "sampleA = pd.concat([ordersByUsersA['orders'],pd.Series(0, index=np.arange(visits[visits['group']=='A']['visits'].sum() - len(ordersByUsersA['orders'])), name='orders')],axis=0)\n",
    "\n",
    "sampleB = pd.concat([ordersByUsersB['orders'],pd.Series(0, index=np.arange(visits[visits['group']=='B']['visits'].sum() - len(ordersByUsersB['orders'])), name='orders')],axis=0)\n",
    "\n",
    "print(\"{0:.3f}\".format(stats.mannwhitneyu(sampleA, sampleB)[1]))\n",
    "\n",
    "print(\"{0:.3f}\".format(sampleB.mean()/sampleA.mean()-1))"
   ]
  },
  {
   "cell_type": "markdown",
   "metadata": {},
   "source": [
    "La primera fila de la salida nos da el valor p 0.011, que es menor que 0.05. Entonces, podemos rechazar la hipótesis nula ya que si existe una diferencia estadísticamente significativa en la conversión entre los grupos. La ganancia de conversión del grupo B respecto al grupo A fue del 16%.  "
   ]
  },
  {
   "cell_type": "markdown",
   "metadata": {},
   "source": [
    "## Encuentra la significancia estadística de la diferencia en el tamaño promedio de pedido entre los grupos utilizando los datos en bruto."
   ]
  },
  {
   "cell_type": "code",
   "execution_count": 33,
   "metadata": {},
   "outputs": [
    {
     "name": "stdout",
     "output_type": "stream",
     "text": [
      "0.862\n",
      "0.278\n"
     ]
    }
   ],
   "source": [
    "print('{0:.3f}'.format(stats.mannwhitneyu(orders_fixed[orders_fixed['group']=='A']['revenue'], orders_fixed[orders_fixed['group']=='B']['revenue'])[1]))\n",
    "print('{0:.3f}'.format(orders_fixed[orders_fixed['group']=='B']['revenue'].mean()/orders_fixed[orders_fixed['group']=='A']['revenue'].mean()-1))"
   ]
  },
  {
   "cell_type": "markdown",
   "metadata": {},
   "source": [
    "El valor p es notablemente superior a 0.05 por lo que no existen motivos para rechazar la hipótesis nula y concluir que el tamaño medio de los pedidos difiere entre los grupos. \n",
    "\n",
    "Aunque el tamaño de pedido promedio para el grupo B es más grande que para el grupo A. Cerca del 28% mayor, en comparación.\n"
   ]
  },
  {
   "cell_type": "markdown",
   "metadata": {},
   "source": [
    "## Encuentra la significancia estadística de la diferencia en la conversión entre los grupos utilizando los datos filtrados."
   ]
  },
  {
   "cell_type": "markdown",
   "metadata": {},
   "source": [
    "Recordemos que los percentiles 95 y 99 para el tamaño de pedido promedio, que encontramos en secciones pasadas, fueron  $\\$ 414.275\\  y\\  $\\$ 830.3\n",
    "\n",
    "Los percentiles 95 y 99 del número de pedidos por usuario fueron 1 y 2 pedidos.\n",
    "\n",
    "Vamos a definir los usuarios anómalos como aquellos que realizan más de 1 pedido pedido o un pedido mayor a $500. Así eliminaremos el 5\\% de los usuarios con mayor número de pedidos y entre el 1\\% al 5\\% de los usuarios con los pedidos más caros."
   ]
  },
  {
   "cell_type": "code",
   "execution_count": 34,
   "metadata": {},
   "outputs": [
    {
     "name": "stdout",
     "output_type": "stream",
     "text": [
      "1099    148427295\n",
      "928     204675465\n",
      "33      249864742\n",
      "684     358944393\n",
      "36      366673373\n",
      "648     382846391\n",
      "51      406208401\n",
      "67      522292794\n",
      "58      611059232\n",
      "64      678354126\n",
      "dtype: int64\n",
      "(72,)\n"
     ]
    }
   ],
   "source": [
    "usersWithManyOrders = pd.concat([ordersByUsersA[ordersByUsersA['orders'] > 1]['userId'], ordersByUsersB[ordersByUsersB['orders'] > 1]['userId']], axis = 0)\n",
    "usersWithExpensiveOrders = orders_fixed[orders_fixed['revenue'] > 500]['visitorId']\n",
    "abnormalUsers = pd.concat([usersWithManyOrders, usersWithExpensiveOrders], axis = 0).drop_duplicates().sort_values()\n",
    "print(abnormalUsers.head(10))\n",
    "print(abnormalUsers.shape)"
   ]
  },
  {
   "cell_type": "markdown",
   "metadata": {},
   "source": [
    "Tenemos 72 usuarios anómalos."
   ]
  },
  {
   "cell_type": "code",
   "execution_count": 35,
   "metadata": {},
   "outputs": [],
   "source": [
    "sampleAFiltered = pd.concat([ordersByUsersA[np.logical_not(ordersByUsersA['userId'].isin(abnormalUsers))]['orders'],pd.Series(0, index=np.arange(visits[visits['group']=='A']['visits'].sum() - len(ordersByUsersA['orders'])),name='orders')],axis=0)\n",
    "\n",
    "sampleBFiltered = pd.concat([ordersByUsersB[np.logical_not(ordersByUsersB['userId'].isin(abnormalUsers))]['orders'],pd.Series(0, index=np.arange(visits[visits['group']=='B']['visits'].sum() - len(ordersByUsersB['orders'])),name='orders')],axis=0)"
   ]
  },
  {
   "cell_type": "code",
   "execution_count": 36,
   "metadata": {},
   "outputs": [
    {
     "name": "stdout",
     "output_type": "stream",
     "text": [
      "0.010\n",
      "0.186\n"
     ]
    }
   ],
   "source": [
    "# Aplicamos el criterio estadístico de Mann-Whitney a las muestras resultantes:\n",
    "\n",
    "print(\"{0:.3f}\".format(stats.mannwhitneyu(sampleAFiltered, sampleBFiltered)[1]))\n",
    "print(\"{0:.3f}\".format(sampleBFiltered.mean()/sampleAFiltered.mean()-1))"
   ]
  },
  {
   "cell_type": "markdown",
   "metadata": {},
   "source": [
    "La primera fila de la salida nos da el valor p 0.010, que es menor que 0.05. Entonces, podemos rechazar la hipótesis nula ya que si existe una diferencia estadísticamente significativa en la conversión entre los grupos.\n",
    "\n",
    "La ganancia de conversión del grupo B respecto al grupo A, aumentó hasta el 18%.\n",
    "\n",
    "Los resultados de conversión casi no cambiaron.\n"
   ]
  },
  {
   "cell_type": "markdown",
   "metadata": {},
   "source": [
    "## Encuentra la significancia estadística de la diferencia en el tamaño promedio de pedido entre los grupos utilizando los datos filtrados."
   ]
  },
  {
   "cell_type": "code",
   "execution_count": 37,
   "metadata": {},
   "outputs": [
    {
     "name": "stdout",
     "output_type": "stream",
     "text": [
      "0.992\n",
      "0.016\n"
     ]
    }
   ],
   "source": [
    "# Calcular la significancia estadística utilizando la prueba de Mann-Whitney\n",
    "u_stat, p_value = stats.mannwhitneyu(\n",
    "    orders_fixed[np.logical_and(\n",
    "        orders_fixed['group'] == 'A',\n",
    "        np.logical_not(orders_fixed['visitorId'].isin(abnormalUsers)))]['revenue'],\n",
    "    orders_fixed[np.logical_and(\n",
    "        orders_fixed['group'] == 'B',\n",
    "        np.logical_not(orders_fixed['visitorId'].isin(abnormalUsers)))]['revenue']\n",
    ")\n",
    "\n",
    "# Imprimir el valor p con 3 decimales\n",
    "print('{0:.3f}'.format(p_value))\n",
    "\n",
    "# Calcular la diferencia relativa en el tamaño promedio de pedido entre los grupos\n",
    "mean_revenue_a = orders_fixed[np.logical_and(\n",
    "    orders_fixed['group'] == 'A',\n",
    "    np.logical_not(orders_fixed['visitorId'].isin(abnormalUsers)))]['revenue'].mean()\n",
    "mean_revenue_b = orders_fixed[np.logical_and(\n",
    "    orders_fixed['group'] == 'B',\n",
    "    np.logical_not(orders_fixed['visitorId'].isin(abnormalUsers)))]['revenue'].mean()\n",
    "relative_difference = mean_revenue_b / mean_revenue_a - 1\n",
    "\n",
    "# Imprimir la diferencia relativa con 3 decimales\n",
    "print('{0:.3f}'.format(relative_difference))"
   ]
  },
  {
   "cell_type": "markdown",
   "metadata": {},
   "source": [
    "El valor p aumentó de 86\\% a 99\\% por lo que es definitivo que NO debemos rechazar la hipótesis nula y concluir que el tamaño medio de los pedidos difiere entre los grupos. \n",
    "\n",
    "Pero ahora la diferencia entre los segmentos es del 16% en lugar del 28%.\n",
    "\n",
    "Esto demuestra claramente cómo las anomalías afectaronn los resultados de la prueba A/B para identificar la significancia estadística de la diferencia en el tamaño promedio de pedido."
   ]
  },
  {
   "cell_type": "markdown",
   "metadata": {},
   "source": [
    "## Toma una decisión basada en los resultados de la prueba. Las decisiones posibles son: \n",
    "1. Para la prueba, considera a uno de los grupos como líder. \n",
    "2. Para la prueba, concluye que no hay diferencia entre los grupos. \n",
    "3. Continúa la prueba."
   ]
  },
  {
   "cell_type": "markdown",
   "metadata": {},
   "source": [
    "Tanto los datos sin procesar como los filtrados, revelaron que podemos rechazar la hipótesis nula ya que si existe una diferencia estadísticamente significativa en la conversión entre los grupos. Encontrando un aumento de 18% aproximadamente para el grupo B respecto al grupo A.\n",
    "\n",
    "Ni los datos sin procesar ni los filtrados revelaron diferencias estadísticamente significativas en el tamaño promedio de los pedidos entre los grupos. Se encontró que el pedido promedio de pedidos se mantuvo sin diferencia considerable para ambos grupos. Aunque el aumento para el grupo B fue de 16%, no muy alto.\n",
    "\n",
    "El gráfico que muestra la conversión de los grupos nos dice que los resultados del grupo B son mejores.\n",
    "\n",
    "El gráfico que muestra la diferencia en el tamaño medio de los pedidos entre los grupos nos dice que los resultados de los grupos son iguales, si no consideramos los datos anómalos.\n",
    "\n",
    "Basándonos en estos hechos, podemos concluir que la prueba fue exitosa parcialmente, en la tasa de conversión, consideramos que la mejora es pequeña, sin embargo, mejora es mejora. Consideramos al grupo B como líder. La prueba podría detenerse."
   ]
  }
 ],
 "metadata": {
  "ExecuteTimeLog": [
   {
    "duration": 4,
    "start_time": "2024-07-02T03:08:15.221Z"
   },
   {
    "duration": 5201,
    "start_time": "2024-07-02T06:54:16.862Z"
   },
   {
    "duration": 12,
    "start_time": "2024-07-02T06:54:22.070Z"
   },
   {
    "duration": 13,
    "start_time": "2024-07-02T06:54:42.378Z"
   },
   {
    "duration": 13,
    "start_time": "2024-07-02T06:55:02.462Z"
   },
   {
    "duration": 9,
    "start_time": "2024-07-02T06:55:14.033Z"
   },
   {
    "duration": 6,
    "start_time": "2024-07-02T06:56:08.310Z"
   },
   {
    "duration": 6,
    "start_time": "2024-07-02T06:56:18.388Z"
   },
   {
    "duration": 13,
    "start_time": "2024-07-02T06:57:12.052Z"
   },
   {
    "duration": 8,
    "start_time": "2024-07-02T06:57:14.656Z"
   },
   {
    "duration": 14,
    "start_time": "2024-07-02T06:57:16.075Z"
   },
   {
    "duration": 316,
    "start_time": "2024-07-02T20:48:36.063Z"
   },
   {
    "duration": 5089,
    "start_time": "2024-07-02T20:48:42.480Z"
   },
   {
    "duration": 12,
    "start_time": "2024-07-02T20:48:47.573Z"
   },
   {
    "duration": 17,
    "start_time": "2024-07-02T20:48:47.588Z"
   },
   {
    "duration": 6,
    "start_time": "2024-07-02T20:48:47.631Z"
   },
   {
    "duration": 15,
    "start_time": "2024-07-02T20:48:53.397Z"
   },
   {
    "duration": 5,
    "start_time": "2024-07-02T20:49:06.817Z"
   },
   {
    "duration": 11,
    "start_time": "2024-07-02T20:49:07.459Z"
   },
   {
    "duration": 440,
    "start_time": "2024-07-02T20:50:02.047Z"
   },
   {
    "duration": 1294,
    "start_time": "2024-07-02T20:50:37.691Z"
   },
   {
    "duration": 10,
    "start_time": "2024-07-02T20:50:38.989Z"
   },
   {
    "duration": 36,
    "start_time": "2024-07-02T20:50:39.003Z"
   },
   {
    "duration": 5,
    "start_time": "2024-07-02T20:50:39.043Z"
   },
   {
    "duration": 14,
    "start_time": "2024-07-02T20:50:39.054Z"
   },
   {
    "duration": 1405,
    "start_time": "2024-07-02T20:50:39.071Z"
   },
   {
    "duration": 340,
    "start_time": "2024-07-02T20:50:53.381Z"
   },
   {
    "duration": 11,
    "start_time": "2024-07-02T20:51:05.526Z"
   },
   {
    "duration": 13,
    "start_time": "2024-07-02T20:53:00.113Z"
   },
   {
    "duration": 93,
    "start_time": "2024-07-02T21:08:26.102Z"
   },
   {
    "duration": 48,
    "start_time": "2024-07-02T21:08:46.364Z"
   },
   {
    "duration": 21,
    "start_time": "2024-07-02T21:08:58.356Z"
   },
   {
    "duration": 19,
    "start_time": "2024-07-02T21:11:59.152Z"
   },
   {
    "duration": 1287,
    "start_time": "2024-07-02T21:13:08.687Z"
   },
   {
    "duration": 11,
    "start_time": "2024-07-02T21:13:09.977Z"
   },
   {
    "duration": 35,
    "start_time": "2024-07-02T21:13:09.995Z"
   },
   {
    "duration": 4,
    "start_time": "2024-07-02T21:13:10.036Z"
   },
   {
    "duration": 14,
    "start_time": "2024-07-02T21:13:10.049Z"
   },
   {
    "duration": 16,
    "start_time": "2024-07-02T21:13:10.067Z"
   },
   {
    "duration": 52,
    "start_time": "2024-07-02T21:13:10.085Z"
   },
   {
    "duration": 41,
    "start_time": "2024-07-02T21:13:10.140Z"
   },
   {
    "duration": 22,
    "start_time": "2024-07-02T21:19:21.984Z"
   },
   {
    "duration": 1332,
    "start_time": "2024-07-02T21:19:42.852Z"
   },
   {
    "duration": 11,
    "start_time": "2024-07-02T21:19:44.187Z"
   },
   {
    "duration": 36,
    "start_time": "2024-07-02T21:19:44.201Z"
   },
   {
    "duration": 5,
    "start_time": "2024-07-02T21:19:44.242Z"
   },
   {
    "duration": 12,
    "start_time": "2024-07-02T21:19:44.250Z"
   },
   {
    "duration": 16,
    "start_time": "2024-07-02T21:19:44.266Z"
   },
   {
    "duration": 52,
    "start_time": "2024-07-02T21:19:44.288Z"
   },
   {
    "duration": 18,
    "start_time": "2024-07-02T21:19:44.343Z"
   },
   {
    "duration": 330,
    "start_time": "2024-07-03T02:05:34.563Z"
   },
   {
    "duration": 5020,
    "start_time": "2024-07-03T02:06:23.985Z"
   },
   {
    "duration": 12,
    "start_time": "2024-07-03T02:06:29.009Z"
   },
   {
    "duration": 17,
    "start_time": "2024-07-03T02:06:29.024Z"
   },
   {
    "duration": 5,
    "start_time": "2024-07-03T02:06:29.044Z"
   },
   {
    "duration": 11,
    "start_time": "2024-07-03T02:06:29.053Z"
   },
   {
    "duration": 49,
    "start_time": "2024-07-03T02:06:29.066Z"
   },
   {
    "duration": 13,
    "start_time": "2024-07-03T02:06:29.118Z"
   },
   {
    "duration": 18,
    "start_time": "2024-07-03T02:06:29.133Z"
   },
   {
    "duration": 26,
    "start_time": "2024-07-03T02:13:10.294Z"
   },
   {
    "duration": 23,
    "start_time": "2024-07-03T02:13:57.626Z"
   },
   {
    "duration": 23,
    "start_time": "2024-07-03T02:14:14.335Z"
   },
   {
    "duration": 7,
    "start_time": "2024-07-03T02:19:05.470Z"
   },
   {
    "duration": 7,
    "start_time": "2024-07-03T02:43:39.583Z"
   },
   {
    "duration": 1267,
    "start_time": "2024-07-03T02:44:25.448Z"
   },
   {
    "duration": 10,
    "start_time": "2024-07-03T02:44:26.718Z"
   },
   {
    "duration": 17,
    "start_time": "2024-07-03T02:44:26.731Z"
   },
   {
    "duration": 5,
    "start_time": "2024-07-03T02:44:26.751Z"
   },
   {
    "duration": 44,
    "start_time": "2024-07-03T02:44:26.762Z"
   },
   {
    "duration": 16,
    "start_time": "2024-07-03T02:44:26.809Z"
   },
   {
    "duration": 12,
    "start_time": "2024-07-03T02:44:26.827Z"
   },
   {
    "duration": 66,
    "start_time": "2024-07-03T02:44:26.842Z"
   },
   {
    "duration": 20,
    "start_time": "2024-07-03T02:44:26.910Z"
   },
   {
    "duration": 23,
    "start_time": "2024-07-03T02:44:26.933Z"
   },
   {
    "duration": 6,
    "start_time": "2024-07-03T02:44:26.958Z"
   },
   {
    "duration": 41,
    "start_time": "2024-07-03T02:44:26.967Z"
   },
   {
    "duration": 19,
    "start_time": "2024-07-03T02:44:27.012Z"
   },
   {
    "duration": 460,
    "start_time": "2024-07-03T02:45:40.883Z"
   },
   {
    "duration": 1271,
    "start_time": "2024-07-03T02:47:47.003Z"
   },
   {
    "duration": 9,
    "start_time": "2024-07-03T02:47:48.277Z"
   },
   {
    "duration": 25,
    "start_time": "2024-07-03T02:47:48.289Z"
   },
   {
    "duration": 4,
    "start_time": "2024-07-03T02:47:48.318Z"
   },
   {
    "duration": 11,
    "start_time": "2024-07-03T02:47:48.325Z"
   },
   {
    "duration": 13,
    "start_time": "2024-07-03T02:47:48.339Z"
   },
   {
    "duration": 60,
    "start_time": "2024-07-03T02:47:48.355Z"
   },
   {
    "duration": 19,
    "start_time": "2024-07-03T02:47:48.419Z"
   },
   {
    "duration": 18,
    "start_time": "2024-07-03T02:47:48.441Z"
   },
   {
    "duration": 37,
    "start_time": "2024-07-03T02:47:48.464Z"
   },
   {
    "duration": 26,
    "start_time": "2024-07-03T02:47:48.504Z"
   },
   {
    "duration": 1153,
    "start_time": "2024-07-03T02:47:48.533Z"
   },
   {
    "duration": 0,
    "start_time": "2024-07-03T02:47:49.690Z"
   },
   {
    "duration": 0,
    "start_time": "2024-07-03T02:47:49.692Z"
   },
   {
    "duration": 1231,
    "start_time": "2024-07-03T02:48:27.155Z"
   },
   {
    "duration": 13,
    "start_time": "2024-07-03T02:48:28.389Z"
   },
   {
    "duration": 16,
    "start_time": "2024-07-03T02:48:28.405Z"
   },
   {
    "duration": 4,
    "start_time": "2024-07-03T02:48:28.424Z"
   },
   {
    "duration": 10,
    "start_time": "2024-07-03T02:48:28.433Z"
   },
   {
    "duration": 55,
    "start_time": "2024-07-03T02:48:28.446Z"
   },
   {
    "duration": 13,
    "start_time": "2024-07-03T02:48:28.505Z"
   },
   {
    "duration": 16,
    "start_time": "2024-07-03T02:48:28.521Z"
   },
   {
    "duration": 17,
    "start_time": "2024-07-03T02:48:28.541Z"
   },
   {
    "duration": 41,
    "start_time": "2024-07-03T02:48:28.561Z"
   },
   {
    "duration": 23,
    "start_time": "2024-07-03T02:48:28.605Z"
   },
   {
    "duration": 7,
    "start_time": "2024-07-03T02:48:28.631Z"
   },
   {
    "duration": 10,
    "start_time": "2024-07-03T02:48:28.641Z"
   },
   {
    "duration": 46,
    "start_time": "2024-07-03T02:48:28.656Z"
   },
   {
    "duration": 19,
    "start_time": "2024-07-03T02:52:23.895Z"
   },
   {
    "duration": 4,
    "start_time": "2024-07-03T02:52:25.957Z"
   },
   {
    "duration": 23,
    "start_time": "2024-07-03T02:52:26.717Z"
   },
   {
    "duration": 8,
    "start_time": "2024-07-03T02:52:30.580Z"
   },
   {
    "duration": 7,
    "start_time": "2024-07-03T02:52:33.697Z"
   },
   {
    "duration": 6,
    "start_time": "2024-07-03T02:52:34.746Z"
   },
   {
    "duration": 5,
    "start_time": "2024-07-03T02:53:04.839Z"
   },
   {
    "duration": 13,
    "start_time": "2024-07-03T02:53:10.665Z"
   },
   {
    "duration": 3,
    "start_time": "2024-07-03T05:47:22.836Z"
   },
   {
    "duration": 21,
    "start_time": "2024-07-03T06:59:30.437Z"
   },
   {
    "duration": 1335,
    "start_time": "2024-07-03T07:00:31.067Z"
   },
   {
    "duration": 15,
    "start_time": "2024-07-03T07:00:51.857Z"
   },
   {
    "duration": 14,
    "start_time": "2024-07-03T07:01:27.587Z"
   },
   {
    "duration": 95,
    "start_time": "2024-07-03T07:01:28.678Z"
   },
   {
    "duration": 17,
    "start_time": "2024-07-03T07:03:54.014Z"
   },
   {
    "duration": 1247,
    "start_time": "2024-07-03T07:05:39.320Z"
   },
   {
    "duration": 10,
    "start_time": "2024-07-03T07:05:40.570Z"
   },
   {
    "duration": 29,
    "start_time": "2024-07-03T07:05:40.583Z"
   },
   {
    "duration": 4,
    "start_time": "2024-07-03T07:05:40.615Z"
   },
   {
    "duration": 11,
    "start_time": "2024-07-03T07:05:40.624Z"
   },
   {
    "duration": 13,
    "start_time": "2024-07-03T07:05:40.638Z"
   },
   {
    "duration": 53,
    "start_time": "2024-07-03T07:05:40.654Z"
   },
   {
    "duration": 19,
    "start_time": "2024-07-03T07:05:40.713Z"
   },
   {
    "duration": 19,
    "start_time": "2024-07-03T07:05:40.735Z"
   },
   {
    "duration": 4,
    "start_time": "2024-07-03T07:05:40.757Z"
   },
   {
    "duration": 60,
    "start_time": "2024-07-03T07:05:40.765Z"
   },
   {
    "duration": 8,
    "start_time": "2024-07-03T07:05:40.828Z"
   },
   {
    "duration": 9,
    "start_time": "2024-07-03T07:05:40.839Z"
   },
   {
    "duration": 6,
    "start_time": "2024-07-03T07:05:40.854Z"
   },
   {
    "duration": 6,
    "start_time": "2024-07-03T07:05:40.902Z"
   },
   {
    "duration": 8,
    "start_time": "2024-07-03T07:05:40.911Z"
   },
   {
    "duration": 17,
    "start_time": "2024-07-03T07:05:40.922Z"
   },
   {
    "duration": 1400,
    "start_time": "2024-07-03T07:05:40.942Z"
   },
   {
    "duration": 31,
    "start_time": "2024-07-03T07:11:26.029Z"
   },
   {
    "duration": 362,
    "start_time": "2024-07-03T07:11:46.269Z"
   },
   {
    "duration": 7,
    "start_time": "2024-07-03T07:16:13.123Z"
   },
   {
    "duration": 8,
    "start_time": "2024-07-03T07:29:15.809Z"
   },
   {
    "duration": 15,
    "start_time": "2024-07-03T07:39:23.166Z"
   },
   {
    "duration": 404,
    "start_time": "2024-07-03T07:41:02.168Z"
   },
   {
    "duration": 407,
    "start_time": "2024-07-03T07:45:43.165Z"
   },
   {
    "duration": 406,
    "start_time": "2024-07-03T07:46:37.647Z"
   },
   {
    "duration": 260,
    "start_time": "2024-07-03T07:47:18.718Z"
   },
   {
    "duration": 4896,
    "start_time": "2024-07-03T09:24:49.534Z"
   },
   {
    "duration": 12,
    "start_time": "2024-07-03T09:24:54.435Z"
   },
   {
    "duration": 16,
    "start_time": "2024-07-03T09:24:54.454Z"
   },
   {
    "duration": 3,
    "start_time": "2024-07-03T09:24:54.475Z"
   },
   {
    "duration": 50,
    "start_time": "2024-07-03T09:24:54.482Z"
   },
   {
    "duration": 13,
    "start_time": "2024-07-03T09:24:54.535Z"
   },
   {
    "duration": 13,
    "start_time": "2024-07-03T09:24:54.551Z"
   },
   {
    "duration": 19,
    "start_time": "2024-07-03T09:24:54.567Z"
   },
   {
    "duration": 27,
    "start_time": "2024-07-03T09:24:54.629Z"
   },
   {
    "duration": 3,
    "start_time": "2024-07-03T09:24:54.659Z"
   },
   {
    "duration": 23,
    "start_time": "2024-07-03T09:24:54.665Z"
   },
   {
    "duration": 8,
    "start_time": "2024-07-03T09:24:54.691Z"
   },
   {
    "duration": 7,
    "start_time": "2024-07-03T09:24:54.732Z"
   },
   {
    "duration": 6,
    "start_time": "2024-07-03T09:24:54.742Z"
   },
   {
    "duration": 6,
    "start_time": "2024-07-03T09:24:54.752Z"
   },
   {
    "duration": 8,
    "start_time": "2024-07-03T09:24:54.761Z"
   },
   {
    "duration": 63,
    "start_time": "2024-07-03T09:24:54.772Z"
   },
   {
    "duration": 375,
    "start_time": "2024-07-03T09:24:54.838Z"
   },
   {
    "duration": 15,
    "start_time": "2024-07-03T09:24:55.217Z"
   },
   {
    "duration": 422,
    "start_time": "2024-07-03T09:24:55.235Z"
   },
   {
    "duration": 8,
    "start_time": "2024-07-03T09:24:55.660Z"
   },
   {
    "duration": 331,
    "start_time": "2024-07-03T09:24:55.671Z"
   },
   {
    "duration": 3,
    "start_time": "2024-07-04T01:05:13.462Z"
   },
   {
    "duration": 271,
    "start_time": "2024-07-04T02:43:05.682Z"
   },
   {
    "duration": 242,
    "start_time": "2024-07-04T02:43:14.876Z"
   },
   {
    "duration": 283,
    "start_time": "2024-07-04T02:43:27.866Z"
   },
   {
    "duration": 371,
    "start_time": "2024-07-04T02:43:37.143Z"
   },
   {
    "duration": 335,
    "start_time": "2024-07-04T02:47:07.969Z"
   },
   {
    "duration": 324,
    "start_time": "2024-07-04T06:43:51.269Z"
   },
   {
    "duration": 365,
    "start_time": "2024-07-04T06:45:06.874Z"
   },
   {
    "duration": 323,
    "start_time": "2024-07-04T06:45:16.943Z"
   },
   {
    "duration": 347,
    "start_time": "2024-07-04T07:21:02.327Z"
   },
   {
    "duration": 323,
    "start_time": "2024-07-04T07:21:07.596Z"
   },
   {
    "duration": 322,
    "start_time": "2024-07-04T07:21:17.847Z"
   },
   {
    "duration": 335,
    "start_time": "2024-07-04T07:26:04.422Z"
   },
   {
    "duration": 443,
    "start_time": "2024-07-04T07:26:49.941Z"
   },
   {
    "duration": 465,
    "start_time": "2024-07-04T09:08:50.853Z"
   },
   {
    "duration": 28,
    "start_time": "2024-07-04T09:10:39.323Z"
   },
   {
    "duration": 9,
    "start_time": "2024-07-04T09:10:44.143Z"
   },
   {
    "duration": 8,
    "start_time": "2024-07-04T09:10:47.000Z"
   },
   {
    "duration": 6,
    "start_time": "2024-07-04T09:11:54.165Z"
   },
   {
    "duration": 1540,
    "start_time": "2024-07-04T09:12:45.750Z"
   },
   {
    "duration": 22,
    "start_time": "2024-07-04T09:15:33.656Z"
   },
   {
    "duration": 13,
    "start_time": "2024-07-04T09:15:43.620Z"
   },
   {
    "duration": 25,
    "start_time": "2024-07-04T09:16:06.179Z"
   },
   {
    "duration": 308,
    "start_time": "2024-07-04T09:16:22.047Z"
   },
   {
    "duration": 7,
    "start_time": "2024-07-04T09:17:08.877Z"
   },
   {
    "duration": 408,
    "start_time": "2024-07-04T09:17:23.609Z"
   },
   {
    "duration": 305,
    "start_time": "2024-07-04T09:18:25.968Z"
   },
   {
    "duration": 244,
    "start_time": "2024-07-04T09:18:34.600Z"
   },
   {
    "duration": 382,
    "start_time": "2024-07-04T09:19:13.287Z"
   },
   {
    "duration": 263,
    "start_time": "2024-07-04T09:19:42.774Z"
   },
   {
    "duration": 245,
    "start_time": "2024-07-04T09:19:51.276Z"
   },
   {
    "duration": 273,
    "start_time": "2024-07-04T09:20:09.934Z"
   },
   {
    "duration": 318,
    "start_time": "2024-07-04T09:20:33.526Z"
   },
   {
    "duration": 331,
    "start_time": "2024-07-04T09:24:47.191Z"
   },
   {
    "duration": 332,
    "start_time": "2024-07-04T09:25:06.518Z"
   },
   {
    "duration": 313,
    "start_time": "2024-07-04T21:11:18.017Z"
   },
   {
    "duration": 4978,
    "start_time": "2024-07-04T21:11:27.181Z"
   },
   {
    "duration": 12,
    "start_time": "2024-07-04T21:11:32.163Z"
   },
   {
    "duration": 15,
    "start_time": "2024-07-04T21:11:32.190Z"
   },
   {
    "duration": 7,
    "start_time": "2024-07-04T21:11:32.209Z"
   },
   {
    "duration": 11,
    "start_time": "2024-07-04T21:11:32.219Z"
   },
   {
    "duration": 14,
    "start_time": "2024-07-04T21:11:32.234Z"
   },
   {
    "duration": 52,
    "start_time": "2024-07-04T21:11:32.251Z"
   },
   {
    "duration": 18,
    "start_time": "2024-07-04T21:11:32.306Z"
   },
   {
    "duration": 28,
    "start_time": "2024-07-04T21:11:32.327Z"
   },
   {
    "duration": 3,
    "start_time": "2024-07-04T21:11:32.390Z"
   },
   {
    "duration": 24,
    "start_time": "2024-07-04T21:11:32.397Z"
   },
   {
    "duration": 8,
    "start_time": "2024-07-04T21:11:32.424Z"
   },
   {
    "duration": 9,
    "start_time": "2024-07-04T21:11:32.435Z"
   },
   {
    "duration": 47,
    "start_time": "2024-07-04T21:11:32.447Z"
   },
   {
    "duration": 7,
    "start_time": "2024-07-04T21:11:32.498Z"
   },
   {
    "duration": 9,
    "start_time": "2024-07-04T21:11:32.514Z"
   },
   {
    "duration": 18,
    "start_time": "2024-07-04T21:11:32.526Z"
   },
   {
    "duration": 482,
    "start_time": "2024-07-04T21:11:32.548Z"
   },
   {
    "duration": 0,
    "start_time": "2024-07-04T21:11:33.033Z"
   },
   {
    "duration": 0,
    "start_time": "2024-07-04T21:11:33.035Z"
   },
   {
    "duration": 0,
    "start_time": "2024-07-04T21:11:33.038Z"
   },
   {
    "duration": 0,
    "start_time": "2024-07-04T21:11:33.039Z"
   },
   {
    "duration": 0,
    "start_time": "2024-07-04T21:11:33.042Z"
   },
   {
    "duration": 0,
    "start_time": "2024-07-04T21:11:33.046Z"
   },
   {
    "duration": 1,
    "start_time": "2024-07-04T21:11:33.047Z"
   },
   {
    "duration": 0,
    "start_time": "2024-07-04T21:11:33.050Z"
   },
   {
    "duration": 8,
    "start_time": "2024-07-04T21:18:01.132Z"
   },
   {
    "duration": 424,
    "start_time": "2024-07-04T21:18:02.876Z"
   },
   {
    "duration": 1262,
    "start_time": "2024-07-04T21:18:09.979Z"
   },
   {
    "duration": 8,
    "start_time": "2024-07-04T21:18:11.245Z"
   },
   {
    "duration": 35,
    "start_time": "2024-07-04T21:18:11.256Z"
   },
   {
    "duration": 8,
    "start_time": "2024-07-04T21:18:11.294Z"
   },
   {
    "duration": 10,
    "start_time": "2024-07-04T21:18:11.307Z"
   },
   {
    "duration": 14,
    "start_time": "2024-07-04T21:18:11.320Z"
   },
   {
    "duration": 12,
    "start_time": "2024-07-04T21:18:11.337Z"
   },
   {
    "duration": 53,
    "start_time": "2024-07-04T21:18:11.352Z"
   },
   {
    "duration": 17,
    "start_time": "2024-07-04T21:18:11.409Z"
   },
   {
    "duration": 6,
    "start_time": "2024-07-04T21:18:11.429Z"
   },
   {
    "duration": 65,
    "start_time": "2024-07-04T21:18:11.437Z"
   },
   {
    "duration": 8,
    "start_time": "2024-07-04T21:18:11.504Z"
   },
   {
    "duration": 7,
    "start_time": "2024-07-04T21:18:11.515Z"
   },
   {
    "duration": 7,
    "start_time": "2024-07-04T21:18:11.527Z"
   },
   {
    "duration": 7,
    "start_time": "2024-07-04T21:18:11.536Z"
   },
   {
    "duration": 49,
    "start_time": "2024-07-04T21:18:11.546Z"
   },
   {
    "duration": 19,
    "start_time": "2024-07-04T21:18:11.600Z"
   },
   {
    "duration": 8,
    "start_time": "2024-07-04T21:18:11.622Z"
   },
   {
    "duration": 476,
    "start_time": "2024-07-04T21:18:11.633Z"
   },
   {
    "duration": 9,
    "start_time": "2024-07-04T21:18:12.113Z"
   },
   {
    "duration": 372,
    "start_time": "2024-07-04T21:18:12.126Z"
   },
   {
    "duration": 398,
    "start_time": "2024-07-04T21:18:12.501Z"
   },
   {
    "duration": 554,
    "start_time": "2024-07-04T21:18:12.902Z"
   },
   {
    "duration": 9,
    "start_time": "2024-07-04T21:18:13.460Z"
   },
   {
    "duration": 29,
    "start_time": "2024-07-04T21:18:13.472Z"
   },
   {
    "duration": 369,
    "start_time": "2024-07-04T21:18:13.504Z"
   },
   {
    "duration": 269,
    "start_time": "2024-07-04T21:18:13.876Z"
   },
   {
    "duration": 285,
    "start_time": "2024-07-04T21:28:07.950Z"
   },
   {
    "duration": 291,
    "start_time": "2024-07-05T00:31:09.143Z"
   },
   {
    "duration": 262,
    "start_time": "2024-07-05T00:31:13.306Z"
   },
   {
    "duration": 7,
    "start_time": "2024-07-05T00:41:17.452Z"
   },
   {
    "duration": 6,
    "start_time": "2024-07-05T00:41:46.333Z"
   },
   {
    "duration": 5,
    "start_time": "2024-07-05T00:41:58.354Z"
   },
   {
    "duration": 6,
    "start_time": "2024-07-05T00:42:25.730Z"
   },
   {
    "duration": 6,
    "start_time": "2024-07-05T00:47:50.606Z"
   },
   {
    "duration": 19,
    "start_time": "2024-07-05T02:22:41.924Z"
   },
   {
    "duration": 5,
    "start_time": "2024-07-05T02:26:27.399Z"
   },
   {
    "duration": 18,
    "start_time": "2024-07-05T02:26:29.938Z"
   },
   {
    "duration": 192,
    "start_time": "2024-07-05T02:26:53.807Z"
   },
   {
    "duration": 288,
    "start_time": "2024-07-05T02:32:27.283Z"
   },
   {
    "duration": 265,
    "start_time": "2024-07-05T02:32:45.620Z"
   },
   {
    "duration": 293,
    "start_time": "2024-07-05T02:32:52.667Z"
   },
   {
    "duration": 6,
    "start_time": "2024-07-05T02:36:49.442Z"
   },
   {
    "duration": 7,
    "start_time": "2024-07-05T02:42:42.731Z"
   },
   {
    "duration": 7,
    "start_time": "2024-07-05T02:42:46.645Z"
   },
   {
    "duration": 7,
    "start_time": "2024-07-05T02:42:50.379Z"
   },
   {
    "duration": 1119,
    "start_time": "2024-07-05T06:43:38.287Z"
   },
   {
    "duration": 258,
    "start_time": "2024-07-05T06:45:26.531Z"
   },
   {
    "duration": 5,
    "start_time": "2024-07-05T06:45:56.739Z"
   },
   {
    "duration": 275,
    "start_time": "2024-07-05T06:46:01.854Z"
   },
   {
    "duration": 244,
    "start_time": "2024-07-05T06:47:35.207Z"
   },
   {
    "duration": 245,
    "start_time": "2024-07-05T06:48:31.557Z"
   },
   {
    "duration": 13,
    "start_time": "2024-07-05T06:52:41.286Z"
   },
   {
    "duration": 13,
    "start_time": "2024-07-05T07:39:02.735Z"
   },
   {
    "duration": 18,
    "start_time": "2024-07-05T07:39:28.917Z"
   },
   {
    "duration": 13,
    "start_time": "2024-07-05T07:40:21.364Z"
   },
   {
    "duration": 11,
    "start_time": "2024-07-05T07:40:31.222Z"
   },
   {
    "duration": 37,
    "start_time": "2024-07-05T07:56:14.715Z"
   },
   {
    "duration": 126,
    "start_time": "2024-07-05T07:56:30.603Z"
   },
   {
    "duration": 12,
    "start_time": "2024-07-05T07:57:06.977Z"
   },
   {
    "duration": 31,
    "start_time": "2024-07-05T07:57:24.678Z"
   },
   {
    "duration": 33,
    "start_time": "2024-07-05T08:00:51.557Z"
   },
   {
    "duration": 473,
    "start_time": "2024-07-05T08:11:08.840Z"
   },
   {
    "duration": 140,
    "start_time": "2024-07-05T08:11:41.311Z"
   },
   {
    "duration": 10,
    "start_time": "2024-07-05T08:17:00.837Z"
   },
   {
    "duration": 19,
    "start_time": "2024-07-05T08:20:26.548Z"
   },
   {
    "duration": 338,
    "start_time": "2024-07-06T08:45:18.995Z"
   },
   {
    "duration": 26,
    "start_time": "2024-07-06T08:45:35.618Z"
   },
   {
    "duration": 5213,
    "start_time": "2024-07-06T08:45:48.631Z"
   },
   {
    "duration": 11,
    "start_time": "2024-07-06T08:45:53.849Z"
   },
   {
    "duration": 16,
    "start_time": "2024-07-06T08:45:53.864Z"
   },
   {
    "duration": 4,
    "start_time": "2024-07-06T08:45:53.884Z"
   },
   {
    "duration": 11,
    "start_time": "2024-07-06T08:45:53.923Z"
   },
   {
    "duration": 15,
    "start_time": "2024-07-06T08:45:53.939Z"
   },
   {
    "duration": 14,
    "start_time": "2024-07-06T08:45:53.957Z"
   },
   {
    "duration": 54,
    "start_time": "2024-07-06T08:45:53.973Z"
   },
   {
    "duration": 22,
    "start_time": "2024-07-06T08:45:54.031Z"
   },
   {
    "duration": 3,
    "start_time": "2024-07-06T08:45:54.060Z"
   },
   {
    "duration": 56,
    "start_time": "2024-07-06T08:45:54.067Z"
   },
   {
    "duration": 11,
    "start_time": "2024-07-06T08:45:54.126Z"
   },
   {
    "duration": 10,
    "start_time": "2024-07-06T08:45:54.140Z"
   },
   {
    "duration": 8,
    "start_time": "2024-07-06T08:45:54.153Z"
   },
   {
    "duration": 6,
    "start_time": "2024-07-06T08:45:54.165Z"
   },
   {
    "duration": 53,
    "start_time": "2024-07-06T08:45:54.174Z"
   },
   {
    "duration": 19,
    "start_time": "2024-07-06T08:45:54.230Z"
   },
   {
    "duration": 10,
    "start_time": "2024-07-06T08:45:54.252Z"
   },
   {
    "duration": 500,
    "start_time": "2024-07-06T08:45:54.267Z"
   },
   {
    "duration": 11,
    "start_time": "2024-07-06T08:45:54.770Z"
   },
   {
    "duration": 378,
    "start_time": "2024-07-06T08:45:54.784Z"
   },
   {
    "duration": 366,
    "start_time": "2024-07-06T08:45:55.165Z"
   },
   {
    "duration": 474,
    "start_time": "2024-07-06T08:45:55.534Z"
   },
   {
    "duration": 9,
    "start_time": "2024-07-06T08:45:56.023Z"
   },
   {
    "duration": 10,
    "start_time": "2024-07-06T08:45:56.035Z"
   },
   {
    "duration": 7,
    "start_time": "2024-07-06T08:45:56.048Z"
   },
   {
    "duration": 379,
    "start_time": "2024-07-06T08:45:56.059Z"
   },
   {
    "duration": 318,
    "start_time": "2024-07-06T08:45:56.446Z"
   },
   {
    "duration": 9,
    "start_time": "2024-07-06T08:45:56.767Z"
   },
   {
    "duration": 330,
    "start_time": "2024-07-06T08:45:56.780Z"
   },
   {
    "duration": 12,
    "start_time": "2024-07-06T08:45:57.113Z"
   },
   {
    "duration": 350,
    "start_time": "2024-07-06T08:45:57.129Z"
   },
   {
    "duration": 15,
    "start_time": "2024-07-06T08:45:57.481Z"
   },
   {
    "duration": 32,
    "start_time": "2024-07-06T08:45:57.500Z"
   },
   {
    "duration": 13,
    "start_time": "2024-07-06T08:45:57.535Z"
   },
   {
    "duration": 36,
    "start_time": "2024-07-06T08:45:57.551Z"
   },
   {
    "duration": 21,
    "start_time": "2024-07-06T08:45:57.625Z"
   },
   {
    "duration": 21,
    "start_time": "2024-07-06T16:20:39.201Z"
   },
   {
    "duration": 9,
    "start_time": "2024-07-06T16:22:44.486Z"
   },
   {
    "duration": 7,
    "start_time": "2024-07-06T16:23:00.392Z"
   },
   {
    "duration": 7,
    "start_time": "2024-07-06T16:23:05.973Z"
   },
   {
    "duration": 1724,
    "start_time": "2024-07-06T16:23:36.292Z"
   },
   {
    "duration": 349,
    "start_time": "2024-07-06T16:24:06.659Z"
   },
   {
    "duration": 266,
    "start_time": "2024-07-06T16:24:25.696Z"
   },
   {
    "duration": 281,
    "start_time": "2024-07-06T16:27:06.518Z"
   },
   {
    "duration": 275,
    "start_time": "2024-07-06T16:27:17.416Z"
   },
   {
    "duration": 320,
    "start_time": "2024-07-06T16:29:02.103Z"
   },
   {
    "duration": 324,
    "start_time": "2024-07-06T16:29:13.333Z"
   },
   {
    "duration": 342,
    "start_time": "2024-07-06T16:29:27.128Z"
   },
   {
    "duration": 953,
    "start_time": "2024-07-06T16:30:06.134Z"
   },
   {
    "duration": 114,
    "start_time": "2024-07-06T16:30:18.202Z"
   },
   {
    "duration": 644,
    "start_time": "2024-07-06T16:31:19.387Z"
   },
   {
    "duration": 42,
    "start_time": "2024-07-06T16:32:05.178Z"
   },
   {
    "duration": 317,
    "start_time": "2024-07-06T16:35:45.541Z"
   },
   {
    "duration": 34,
    "start_time": "2024-07-06T16:36:39.391Z"
   },
   {
    "duration": 372,
    "start_time": "2024-07-06T16:36:53.488Z"
   },
   {
    "duration": 415,
    "start_time": "2024-07-06T16:37:04.033Z"
   },
   {
    "duration": 8,
    "start_time": "2024-07-06T16:40:20.249Z"
   }
  ],
  "kernelspec": {
   "display_name": "Python 3 (ipykernel)",
   "language": "python",
   "name": "python3"
  },
  "language_info": {
   "codemirror_mode": {
    "name": "ipython",
    "version": 3
   },
   "file_extension": ".py",
   "mimetype": "text/x-python",
   "name": "python",
   "nbconvert_exporter": "python",
   "pygments_lexer": "ipython3",
   "version": "3.9.19"
  },
  "toc": {
   "base_numbering": 1,
   "nav_menu": {},
   "number_sections": true,
   "sideBar": true,
   "skip_h1_title": true,
   "title_cell": "Table of Contents",
   "title_sidebar": "Contents",
   "toc_cell": false,
   "toc_position": {},
   "toc_section_display": true,
   "toc_window_display": false
  }
 },
 "nbformat": 4,
 "nbformat_minor": 2
}
